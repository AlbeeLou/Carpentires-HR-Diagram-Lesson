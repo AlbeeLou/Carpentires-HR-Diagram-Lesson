{
 "cells": [
  {
   "cell_type": "markdown",
   "metadata": {},
   "source": [
    "# In this lesson the goal will be to outline the steps and process for creating a basic HR diagram using Python and data from the SDSS archive.\n",
    "\n",
    "This is a work in progress and is aimed ot be similar in style to the Carpentires lessons \n",
    "\n",
    "Focus is on the educational process - with highhopes that the programing and data introduction needed to make it a full usable lessson to come as it is better understood and created to fit this particular lesson.\n"
   ]
  },
  {
   "cell_type": "markdown",
   "metadata": {},
   "source": [
    "# Backgound on HR Diagrams\n",
    "\n",
    "HR diagrams have been part of professional astronomy for decades - and were developed in the nineteenth-century during the first large scale photographic spectroscopic surveys.  During these studies spectral clasifications for thousands of stars were know and orgnaized giving the besics for the diagram.\n",
    "\n",
    "There are several versions of the HR diagram.  The most common two verisons are the type used in basic astronomy "
   ]
  },
  {
   "cell_type": "markdown",
   "metadata": {},
   "source": [
    "# Background on the needed Python Libraries\n",
    "\n",
    "This area needs to talk about the Pandas and Matlab libraries that are needed to get the plot.  Need to get more information here."
   ]
  },
  {
   "cell_type": "markdown",
   "metadata": {},
   "source": [
    "# Steps to build a simple scatter plot in Python\n",
    "\n",
    "Need this area to be broken into simple steps that get a quick plot.  \n",
    "\n",
    " - The basic code needs to have clear documentation to make it refrenceable and understandable\n",
    " - The data for the code - simple but big enough set for the plot to be complete - bonus if basic HR like\n",
    " - Maybe here for data file types explination?\n"
   ]
  },
  {
   "cell_type": "markdown",
   "metadata": {},
   "source": [
    "# Informaton on the SDSS library and data that will be in more complete HR plot\n",
    "\n",
    "Needs to be step by step instrictions on how to get the data set from the archive - \n",
    "\n",
    "Maybe need an explination of the file types? - csv?\n",
    "\n"
   ]
  },
  {
   "cell_type": "markdown",
   "metadata": {},
   "source": [
    "# Steps to use the base code to expand and make a HR diagram with SDSS data \n",
    "\n",
    "- need explination and steps to how to expand the code to use HR diagram like needs (ie basic brightness or magnitude calculations)\n",
    "\n",
    " - add parts to import the csv SDSS data set\n",
    " \n",
    " - add descriptions and well documented code fro needed parts like headings, lables, etc."
   ]
  },
  {
   "cell_type": "markdown",
   "metadata": {},
   "source": [
    "# Wrap up with explination of what created - and tie to standard HR of background"
   ]
  },
  {
   "cell_type": "markdown",
   "metadata": {},
   "source": [
    "# Area with tips or links to alternate data sources, links to supporting cade, or otehr helpful expantions of this base code and concept"
   ]
  }
 ],
 "metadata": {
  "kernelspec": {
   "display_name": "Python 3",
   "language": "python",
   "name": "python3"
  },
  "language_info": {
   "codemirror_mode": {
    "name": "ipython",
    "version": 3
   },
   "file_extension": ".py",
   "mimetype": "text/x-python",
   "name": "python",
   "nbconvert_exporter": "python",
   "pygments_lexer": "ipython3",
   "version": "3.7.6"
  }
 },
 "nbformat": 4,
 "nbformat_minor": 4
}
